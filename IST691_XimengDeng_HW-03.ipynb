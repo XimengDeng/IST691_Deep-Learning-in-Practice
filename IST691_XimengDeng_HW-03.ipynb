{
  "cells": [
    {
      "cell_type": "markdown",
      "metadata": {
        "id": "RZ7cPfCty5U3"
      },
      "source": [
        "# IST 691: Deep Learning in Practice\n",
        "\n",
        "**Homework 3**\n",
        "\n",
        "Name: Ximeng Deng\n",
        "\n",
        "SUID: 412575955\n",
        "\n",
        "*Save this notebook into your Google Drive. The notebook has appropriate comments at the top of code cells to indicate whether you need to modify them or not. Answer your questions directly in the notebook. Remember to use the GPU as your runtime. Once finished, run ensure all code blocks are run, download the notebook and submit through Blackboard.*"
      ]
    },
    {
      "cell_type": "markdown",
      "metadata": {
        "id": "g8swbTwkCunA"
      },
      "source": [
        "### Setup"
      ]
    },
    {
      "cell_type": "code",
      "execution_count": null,
      "metadata": {
        "id": "60F0x-u40An9"
      },
      "outputs": [],
      "source": [
        "import tensorflow as tf\n",
        "import numpy as np\n",
        "from tensorflow.keras import layers\n",
        "from tensorflow.keras.layers import TextVectorization\n",
        "import string\n",
        "import re\n",
        "import pandas as pd\n",
        "from sklearn.model_selection import train_test_split\n",
        "import json\n",
        "import tensorflow as tf\n",
        "import pandas as pd\n",
        "import numpy as np\n",
        "import matplotlib.pyplot as plt\n",
        "from tensorflow import keras\n",
        "from tensorflow.keras.preprocessing.text import Tokenizer\n",
        "from tensorflow.keras.preprocessing.sequence import pad_sequences\n",
        "\n",
        "# to build nearest neighbor model\n",
        "from sklearn.neighbors import NearestNeighbors"
      ]
    },
    {
      "cell_type": "markdown",
      "metadata": {
        "id": "p3AEhdYAMBPN"
      },
      "source": [
        "In this homework, we will perform **sarcasm detection** with [Onion](https://www.theonion.com/) vs [HuffPost](https://www.huffpost.com/) headlines, using LSTM. We will first load the data and generate the training and testing input and labels."
      ]
    },
    {
      "cell_type": "code",
      "execution_count": null,
      "metadata": {
        "id": "JlmQdvJtL_Si"
      },
      "outputs": [],
      "source": [
        "! wget -nc -q https://github.com/mrech/NLP_TensorFlow/blob/master/0_Sentiment_in_Text/Sarcasm_Headlines_Dataset_v2.json?raw=true"
      ]
    },
    {
      "cell_type": "code",
      "execution_count": null,
      "metadata": {
        "id": "fzE7kwA0MdYc"
      },
      "outputs": [],
      "source": [
        "# read the downloaded dataset\n",
        "df = pd.read_json('Sarcasm_Headlines_Dataset_v2.json?raw=true', lines = True)"
      ]
    },
    {
      "cell_type": "code",
      "execution_count": null,
      "metadata": {
        "id": "oefWYDEBBoQz",
        "colab": {
          "base_uri": "https://localhost:8080/"
        },
        "outputId": "f7d9f8f5-427e-4e4b-fbcc-497f94f25c7e"
      },
      "outputs": [
        {
          "output_type": "stream",
          "name": "stdout",
          "text": [
            "<class 'pandas.core.frame.DataFrame'>\n",
            "RangeIndex: 28619 entries, 0 to 28618\n",
            "Data columns (total 3 columns):\n",
            " #   Column        Non-Null Count  Dtype \n",
            "---  ------        --------------  ----- \n",
            " 0   is_sarcastic  28619 non-null  int64 \n",
            " 1   headline      28619 non-null  object\n",
            " 2   article_link  28619 non-null  object\n",
            "dtypes: int64(1), object(2)\n",
            "memory usage: 670.9+ KB\n"
          ]
        }
      ],
      "source": [
        "# get information about the data frame\n",
        "df.info()"
      ]
    },
    {
      "cell_type": "code",
      "execution_count": null,
      "metadata": {
        "id": "4zt5i54PMfLF",
        "colab": {
          "base_uri": "https://localhost:8080/"
        },
        "outputId": "cbbbdd23-5f55-4320-a74e-327c02b0993e"
      },
      "outputs": [
        {
          "output_type": "execute_result",
          "data": {
            "text/plain": [
              "array([['thirtysomething scientists unveil doomsday clock of hair loss',\n",
              "        1],\n",
              "       ['dem rep. totally nails why congress is falling short on gender, racial equality',\n",
              "        0],\n",
              "       ['eat your veggies: 9 deliciously different recipes', 0],\n",
              "       ['inclement weather prevents liar from getting to work', 1],\n",
              "       [\"mother comes pretty close to using word 'streaming' correctly\",\n",
              "        1]], dtype=object)"
            ]
          },
          "metadata": {},
          "execution_count": 5
        }
      ],
      "source": [
        "# take a peek at the key data\n",
        "df[['headline', 'is_sarcastic']].head(5).values"
      ]
    },
    {
      "cell_type": "code",
      "execution_count": null,
      "metadata": {
        "id": "TxA-gljoMt4G"
      },
      "outputs": [],
      "source": [
        "# the training input sequence will be in variable seq_padd_train and the label in train_y\n",
        "# The testing input sequence will be in variable seq_padd_test and the label in test_y\n",
        "headlines = df['headline'].values.tolist()\n",
        "sarcastic = df['is_sarcastic'].values.tolist()"
      ]
    },
    {
      "cell_type": "code",
      "execution_count": null,
      "metadata": {
        "id": "8L2cvpK9Mt4H"
      },
      "outputs": [],
      "source": [
        "training_size = 20000\n",
        "test_size = 6709\n",
        "\n",
        "train_x = headlines[:training_size]\n",
        "test_x = headlines[training_size:]\n",
        "train_y = np.array(sarcastic[:training_size])\n",
        "test_y = np.array(sarcastic[training_size:])\n",
        "\n",
        "# sequence of words input\n",
        "max_len = 16\n",
        "\n",
        "tokenizer = Tokenizer(oov_token = '<OOV>')\n",
        "tokenizer.fit_on_texts(train_x)\n",
        "\n",
        "word_index = tokenizer.word_index\n",
        "index_word = {v: k for k, v in word_index.items()}\n",
        "vocab_size = len(word_index)\n",
        "sequence_train = tokenizer.texts_to_sequences(train_x)\n",
        "seq_padd_train = pad_sequences(sequence_train,\n",
        "                               padding = 'post',\n",
        "                               truncating = 'post',\n",
        "                               maxlen = max_len)\n",
        "\n",
        "\n",
        "sequence_test = tokenizer.texts_to_sequences(test_x)\n",
        "seq_padd_test = pad_sequences(sequence_test, padding = 'post',\n",
        "                              truncating = 'post',\n",
        "                              maxlen = max_len)"
      ]
    },
    {
      "cell_type": "code",
      "source": [
        "vocab_size"
      ],
      "metadata": {
        "colab": {
          "base_uri": "https://localhost:8080/"
        },
        "id": "OEqP2nJtP2fZ",
        "outputId": "f738404a-8e6e-4f58-a77e-5014f36fcf49"
      },
      "execution_count": null,
      "outputs": [
        {
          "output_type": "execute_result",
          "data": {
            "text/plain": [
              "25898"
            ]
          },
          "metadata": {},
          "execution_count": 8
        }
      ]
    },
    {
      "cell_type": "markdown",
      "metadata": {
        "id": "9GPBdovEzBmE"
      },
      "source": [
        "### Q1 Calculating the Trainable Parameters of an LSTM\n",
        "\n",
        "Below is the summary of an LSTM neural network with embeddings and three layers. Explain in detail, after this cell, the \"why\" of the number of parameters of each of the layers displayed by `model1.summary()`. Cite any sources you used to answer this question."
      ]
    },
    {
      "cell_type": "markdown",
      "metadata": {
        "id": "_ch0XFkqgvgg"
      },
      "source": [
        "`model1.summary()`\n",
        "```\n",
        "Model: \"model\"\n",
        "_________________________________________________________________\n",
        "Layer (type)                 Output Shape              Param #   \n",
        "=================================================================\n",
        "input_1 (InputLayer)         [(None, None)]            0         \n",
        "_________________________________________________________________\n",
        "embedding (Embedding)        (None, None, 100)         2000100   \n",
        "_________________________________________________________________\n",
        "lstm (LSTM)                  (None, None, 128)         117248    \n",
        "_________________________________________________________________\n",
        "lstm_1 (LSTM)                (None, None, 96)          86400     \n",
        "_________________________________________________________________\n",
        "lstm_2 (LSTM)                (None, 64)                41216     \n",
        "_________________________________________________________________\n",
        "predictions (Dense)          (None, 1)                 65        \n",
        "=================================================================\n",
        "Total params: 2,245,029\n",
        "Trainable params: 2,245,029\n",
        "Non-trainable params: 0\n",
        "_________________________________________________________________\n",
        "```"
      ]
    },
    {
      "cell_type": "markdown",
      "metadata": {
        "id": "ejPWV0vj0J34"
      },
      "source": [
        "**Why do we have the number of parameters after each of the layers?**\n",
        "\n",
        "*answer here*\n",
        "\n",
        "**Embedding**\n",
        "\n",
        "Embedding Dimension: 100\n",
        "\n",
        "Parameters = Vocab Size × Embedding Dimension\n",
        "\n",
        "We have sequences of varying lengths and we set the max len to 16. Sequences that are longer are truncated at the end. We also need to pad the shorter sequences with zeros to make them all the same length for batch processing.\n",
        "We use a the mask_zero parameter in the Embedding layer to skip over these portions of the data.\n",
        "\n",
        "\n",
        "**First LSTM Layer**\n",
        "\n",
        "Input size from embedding: 100\n",
        "\n",
        "Number of units: 128\n",
        "\n",
        "Parameters: 4 x ((input dim + units) x units + units)\n",
        "= 4 x 128 x (100 + 128 + 1)\n",
        "= 117,248\n",
        "\n",
        "**Second LSTM layer**\n",
        "\n",
        "Input size from previous LSTM: 128\n",
        "\n",
        "Number of units: 96\n",
        "\n",
        "Parameters: 4 × ((128 + 96) x 96 + 96) = 86,400\n",
        "\n",
        "**Third LSTM Layer**\n",
        "\n",
        "Input size from previous LSTM: 96\n",
        "\n",
        "Number of units: 64\n",
        "\n",
        "Parameters: 4 x ((96 + 64) x 64 + 64) = 41,216\n",
        "\n",
        "**Dense Layer**\n",
        "\n",
        "Input size: 64\n",
        "\n",
        "Number of units: 1\n",
        "\n",
        "Parameters: 64 x 1 + 1 = 65\n",
        "\n",
        "\n",
        "**Sources：**\n",
        "MURAT KARAKAYA. “LSTM: Understanding the Number of Parameters.”\n",
        "https://www.kaggle.com/code/kmkarakaya/lstm-understanding-the-number-of-parameters"
      ]
    },
    {
      "cell_type": "markdown",
      "metadata": {
        "id": "r3JcopEi-R6f"
      },
      "source": [
        "### Q2: LSTM for Detecting Sarcasm\n",
        "\n",
        "Modify the code below to create an embedding layer of dimension 50. The vocabulary size is in variable `vocab_size`, and remember to add one in the embedding for the \"out of vocabulary\" input. Define an LSTM with two layers, one with 64 memory size and the second with 32 memory size. Remember to use the suffix `2` for each of the variables you define (e.g., `x2`)"
      ]
    },
    {
      "cell_type": "code",
      "execution_count": null,
      "metadata": {
        "id": "eJ72k-16EJA9"
      },
      "outputs": [],
      "source": [
        "# an integer input for vocab indices\n",
        "inputs2 = tf.keras.Input(shape = (None,), dtype = 'int32')\n",
        "\n",
        "# define the layers below Embedding -> LSTM 1 -> LSTM 2\n",
        "x2 = layers.Embedding(input_dim = vocab_size + 1, output_dim = 50)(inputs2)\n",
        "\n",
        "x2 = layers.LSTM(64, return_sequences = True)(x2)\n",
        "x2 = layers.LSTM(32)(x2)\n",
        "\n",
        "# we project onto a single unit output layer, and squash it with a sigmoid\n",
        "predictions2 = layers.Dense(1, activation = 'sigmoid', name = 'predictions')(x2)\n",
        "\n",
        "model2 = tf.keras.Model(inputs2, predictions2, name = 'lstm_simple')\n",
        "\n",
        "# compile the model with binary crossentropy loss and an adam optimizer\n",
        "model2.compile(loss = 'binary_crossentropy',\n",
        "               optimizer = 'adam',\n",
        "               metrics = ['accuracy'])"
      ]
    },
    {
      "cell_type": "code",
      "execution_count": null,
      "metadata": {
        "id": "HtQCIAoOEREC",
        "colab": {
          "base_uri": "https://localhost:8080/"
        },
        "outputId": "dfd444ee-12ef-4d83-a65f-6c4e198f40ab"
      },
      "outputs": [
        {
          "output_type": "stream",
          "name": "stdout",
          "text": [
            "Epoch 1/10\n",
            "282/282 - 24s - loss: 0.4169 - accuracy: 0.7968 - val_loss: 0.3299 - val_accuracy: 0.8555 - 24s/epoch - 85ms/step\n",
            "Epoch 2/10\n",
            "282/282 - 4s - loss: 0.1739 - accuracy: 0.9337 - val_loss: 0.3708 - val_accuracy: 0.8450 - 4s/epoch - 13ms/step\n",
            "Epoch 3/10\n",
            "282/282 - 3s - loss: 0.0782 - accuracy: 0.9743 - val_loss: 0.5454 - val_accuracy: 0.8440 - 3s/epoch - 9ms/step\n",
            "Epoch 4/10\n",
            "282/282 - 3s - loss: 0.0471 - accuracy: 0.9849 - val_loss: 0.6453 - val_accuracy: 0.8390 - 3s/epoch - 11ms/step\n",
            "Epoch 5/10\n",
            "282/282 - 4s - loss: 0.0323 - accuracy: 0.9897 - val_loss: 0.7658 - val_accuracy: 0.8255 - 4s/epoch - 12ms/step\n",
            "Epoch 6/10\n",
            "282/282 - 2s - loss: 0.0180 - accuracy: 0.9944 - val_loss: 0.7282 - val_accuracy: 0.8170 - 2s/epoch - 7ms/step\n",
            "Epoch 7/10\n",
            "282/282 - 2s - loss: 0.0132 - accuracy: 0.9963 - val_loss: 0.6485 - val_accuracy: 0.8285 - 2s/epoch - 7ms/step\n",
            "Epoch 8/10\n",
            "282/282 - 2s - loss: 0.0088 - accuracy: 0.9980 - val_loss: 0.8225 - val_accuracy: 0.8260 - 2s/epoch - 8ms/step\n",
            "Epoch 9/10\n",
            "282/282 - 2s - loss: 0.0100 - accuracy: 0.9974 - val_loss: 0.8386 - val_accuracy: 0.8260 - 2s/epoch - 7ms/step\n",
            "Epoch 10/10\n",
            "282/282 - 3s - loss: 0.0092 - accuracy: 0.9973 - val_loss: 0.9760 - val_accuracy: 0.8230 - 3s/epoch - 10ms/step\n"
          ]
        },
        {
          "output_type": "execute_result",
          "data": {
            "text/plain": [
              "<keras.src.callbacks.History at 0x7c4b92734ac0>"
            ]
          },
          "metadata": {},
          "execution_count": 10
        }
      ],
      "source": [
        "epochs = 10\n",
        "# fit the model using the train and test datasets\n",
        "model2.fit(seq_padd_train, train_y,\n",
        "           validation_split = 0.1,\n",
        "           epochs = epochs,\n",
        "           verbose = 2,\n",
        "           batch_size = 64)"
      ]
    },
    {
      "cell_type": "code",
      "execution_count": null,
      "metadata": {
        "id": "pSQR8VMIEYur",
        "colab": {
          "base_uri": "https://localhost:8080/"
        },
        "outputId": "c3bd9656-f91a-424b-cb5a-2ed52b64c142"
      },
      "outputs": [
        {
          "output_type": "stream",
          "name": "stdout",
          "text": [
            "270/270 [==============================] - 1s 5ms/step - loss: 0.9589 - accuracy: 0.8293\n"
          ]
        },
        {
          "output_type": "execute_result",
          "data": {
            "text/plain": [
              "[0.9589332938194275, 0.829330563545227]"
            ]
          },
          "metadata": {},
          "execution_count": 11
        }
      ],
      "source": [
        "# estimate the test performance\n",
        "model2.evaluate(seq_padd_test, test_y)"
      ]
    },
    {
      "cell_type": "markdown",
      "metadata": {
        "id": "lOvzWswaN3_g"
      },
      "source": [
        "### Q3: GloVe Word Embeddings\n",
        "\n",
        "Use the code below to download the GloVe embeddings and create the matrix `embedding_matrix` corresponding to the vocabulary above. Define a layer `embedding_layer_glove` which will be use by the LSTM below. Evaluate the performance and compare to model above."
      ]
    },
    {
      "cell_type": "code",
      "execution_count": null,
      "metadata": {
        "id": "XNWYqooOL2Km",
        "colab": {
          "base_uri": "https://localhost:8080/"
        },
        "outputId": "66641679-ba0c-4f6b-8d45-37d9e351a790"
      },
      "outputs": [
        {
          "output_type": "stream",
          "name": "stdout",
          "text": [
            "--2023-11-11 03:48:31--  http://nlp.stanford.edu/data/glove.6B.zip\n",
            "Resolving nlp.stanford.edu (nlp.stanford.edu)... 171.64.67.140\n",
            "Connecting to nlp.stanford.edu (nlp.stanford.edu)|171.64.67.140|:80... connected.\n",
            "HTTP request sent, awaiting response... 302 Found\n",
            "Location: https://nlp.stanford.edu/data/glove.6B.zip [following]\n",
            "--2023-11-11 03:48:31--  https://nlp.stanford.edu/data/glove.6B.zip\n",
            "Connecting to nlp.stanford.edu (nlp.stanford.edu)|171.64.67.140|:443... connected.\n",
            "HTTP request sent, awaiting response... 301 Moved Permanently\n",
            "Location: https://downloads.cs.stanford.edu/nlp/data/glove.6B.zip [following]\n",
            "--2023-11-11 03:48:31--  https://downloads.cs.stanford.edu/nlp/data/glove.6B.zip\n",
            "Resolving downloads.cs.stanford.edu (downloads.cs.stanford.edu)... 171.64.64.22\n",
            "Connecting to downloads.cs.stanford.edu (downloads.cs.stanford.edu)|171.64.64.22|:443... connected.\n",
            "HTTP request sent, awaiting response... 200 OK\n",
            "Length: 862182613 (822M) [application/zip]\n",
            "Saving to: ‘glove.6B.zip’\n",
            "\n",
            "glove.6B.zip        100%[===================>] 822.24M  5.02MB/s    in 2m 39s  \n",
            "\n",
            "2023-11-11 03:51:11 (5.16 MB/s) - ‘glove.6B.zip’ saved [862182613/862182613]\n",
            "\n"
          ]
        }
      ],
      "source": [
        "! wget http://nlp.stanford.edu/data/glove.6B.zip"
      ]
    },
    {
      "cell_type": "code",
      "execution_count": null,
      "metadata": {
        "id": "WzplxdY7Oi5I",
        "colab": {
          "base_uri": "https://localhost:8080/"
        },
        "outputId": "5aa8025c-a957-4cb5-9a09-e19d99a8ec4d"
      },
      "outputs": [
        {
          "output_type": "stream",
          "name": "stdout",
          "text": [
            "Archive:  glove.6B.zip\n",
            "  inflating: glove.6B.50d.txt        \n",
            "  inflating: glove.6B.100d.txt       \n",
            "  inflating: glove.6B.200d.txt       \n",
            "  inflating: glove.6B.300d.txt       \n"
          ]
        }
      ],
      "source": [
        "! unzip glove.6B.zip"
      ]
    },
    {
      "cell_type": "code",
      "execution_count": null,
      "metadata": {
        "id": "EgIsgRm-Ok1h",
        "colab": {
          "base_uri": "https://localhost:8080/"
        },
        "outputId": "a8144994-b11a-44cb-9d2d-c527af9c8cd4"
      },
      "outputs": [
        {
          "output_type": "stream",
          "name": "stdout",
          "text": [
            "Found 400000 word vectors.\n"
          ]
        }
      ],
      "source": [
        "import os\n",
        "embeddings_index = {}\n",
        "f = open('glove.6B.100d.txt')\n",
        "for line in f:\n",
        "    values = line.split()\n",
        "    word = values[0]\n",
        "    coefs = np.asarray(values[1:], dtype = 'float32')\n",
        "    embeddings_index[word] = coefs\n",
        "f.close()\n",
        "\n",
        "print('Found %s word vectors.' % len(embeddings_index))"
      ]
    },
    {
      "cell_type": "code",
      "execution_count": null,
      "metadata": {
        "id": "Mkd0RxToOtcB",
        "colab": {
          "base_uri": "https://localhost:8080/"
        },
        "outputId": "4d1a7ae1-c2eb-4b0a-fd70-baa253a406b1"
      },
      "outputs": [
        {
          "output_type": "stream",
          "name": "stdout",
          "text": [
            "Converted 21242 words (4656 misses)\n"
          ]
        }
      ],
      "source": [
        "num_tokens = vocab_size + 2\n",
        "embedding_dim3 = 100\n",
        "hits = 0\n",
        "misses = 0\n",
        "\n",
        "# prepare embedding matrix\n",
        "embedding_matrix = np.zeros((num_tokens, embedding_dim3))\n",
        "for word, i in word_index.items():\n",
        "    embedding_vector = embeddings_index.get(word)\n",
        "    if embedding_vector is not None:\n",
        "        # words not found in embedding index will be all-zeros.\n",
        "        # this includes the representation for \"padding\" and \"OOV\"\n",
        "        embedding_matrix[i] = embedding_vector\n",
        "        hits += 1\n",
        "    else:\n",
        "        misses += 1\n",
        "print(\"Converted %d words (%d misses)\" % (hits, misses))"
      ]
    },
    {
      "cell_type": "markdown",
      "metadata": {
        "id": "VGynV5Vla4s0"
      },
      "source": [
        "Create the embedding layer below:"
      ]
    },
    {
      "cell_type": "code",
      "execution_count": null,
      "metadata": {
        "id": "qEG5zcMhPatR"
      },
      "outputs": [],
      "source": [
        "# create the embedding layer using the embedding_matrix from above\n",
        "embedding_layer_glove = layers.Embedding(\n",
        "    num_tokens,\n",
        "    embedding_dim3,\n",
        "    input_length = max_len,\n",
        "    embeddings_initializer = tf.keras.initializers.Constant(embedding_matrix),\n",
        "    trainable = False,\n",
        ")"
      ]
    },
    {
      "cell_type": "code",
      "execution_count": null,
      "metadata": {
        "id": "6UHnlij6Plr4"
      },
      "outputs": [],
      "source": [
        "# an integer input for vocab indices\n",
        "inputs3 = tf.keras.Input(shape = (None,), dtype = 'int32')\n",
        "\n",
        "# next, we add a layer to map those vocab indices into a space of dimensionality\n",
        "x3 = embedding_layer_glove(inputs3)\n",
        "\n",
        "x3 = layers.LSTM(32)(x3)\n",
        "\n",
        "# we project onto a single unit output layer, and squash it with a sigmoid\n",
        "predictions3 = layers.Dense(1, activation = 'sigmoid', name = 'predictions')(x3)\n",
        "\n",
        "model3 = tf.keras.Model(inputs3, predictions3)\n",
        "\n",
        "# compile the model with binary crossentropy loss and an adam optimizer.\n",
        "model3.compile(loss = 'binary_crossentropy',\n",
        "               optimizer = 'adam',\n",
        "               metrics = ['accuracy'])"
      ]
    },
    {
      "cell_type": "code",
      "execution_count": null,
      "metadata": {
        "id": "izs4Y_kgPsPG",
        "colab": {
          "base_uri": "https://localhost:8080/"
        },
        "outputId": "653b2c98-4b13-4d5a-b7af-5675cc881f0d"
      },
      "outputs": [
        {
          "output_type": "stream",
          "name": "stdout",
          "text": [
            "Epoch 1/10\n",
            "282/282 - 6s - loss: 0.5409 - accuracy: 0.7219 - val_loss: 0.4604 - val_accuracy: 0.7840 - 6s/epoch - 21ms/step\n",
            "Epoch 2/10\n",
            "282/282 - 2s - loss: 0.4103 - accuracy: 0.8144 - val_loss: 0.3793 - val_accuracy: 0.8305 - 2s/epoch - 6ms/step\n",
            "Epoch 3/10\n",
            "282/282 - 2s - loss: 0.3598 - accuracy: 0.8416 - val_loss: 0.3667 - val_accuracy: 0.8345 - 2s/epoch - 7ms/step\n",
            "Epoch 4/10\n",
            "282/282 - 2s - loss: 0.3257 - accuracy: 0.8609 - val_loss: 0.3466 - val_accuracy: 0.8485 - 2s/epoch - 6ms/step\n",
            "Epoch 5/10\n",
            "282/282 - 2s - loss: 0.3038 - accuracy: 0.8710 - val_loss: 0.3640 - val_accuracy: 0.8435 - 2s/epoch - 7ms/step\n",
            "Epoch 6/10\n",
            "282/282 - 2s - loss: 0.2820 - accuracy: 0.8818 - val_loss: 0.3428 - val_accuracy: 0.8475 - 2s/epoch - 7ms/step\n",
            "Epoch 7/10\n",
            "282/282 - 2s - loss: 0.2601 - accuracy: 0.8928 - val_loss: 0.3472 - val_accuracy: 0.8500 - 2s/epoch - 8ms/step\n",
            "Epoch 8/10\n",
            "282/282 - 2s - loss: 0.2433 - accuracy: 0.8997 - val_loss: 0.3673 - val_accuracy: 0.8505 - 2s/epoch - 7ms/step\n",
            "Epoch 9/10\n",
            "282/282 - 1s - loss: 0.2285 - accuracy: 0.9074 - val_loss: 0.3612 - val_accuracy: 0.8525 - 1s/epoch - 4ms/step\n",
            "Epoch 10/10\n",
            "282/282 - 1s - loss: 0.2175 - accuracy: 0.9101 - val_loss: 0.3677 - val_accuracy: 0.8520 - 1s/epoch - 4ms/step\n"
          ]
        },
        {
          "output_type": "execute_result",
          "data": {
            "text/plain": [
              "<keras.src.callbacks.History at 0x7c4afa0f7070>"
            ]
          },
          "metadata": {},
          "execution_count": 18
        }
      ],
      "source": [
        "# fit the model using the train and test datasets\n",
        "epochs = 10\n",
        "model3.fit(seq_padd_train, train_y,\n",
        "           validation_split = 0.1,\n",
        "           epochs = epochs,\n",
        "           verbose = 2,\n",
        "           batch_size = 64)"
      ]
    },
    {
      "cell_type": "code",
      "execution_count": null,
      "metadata": {
        "id": "TxwFJaqyPuxm",
        "colab": {
          "base_uri": "https://localhost:8080/"
        },
        "outputId": "0899a2f4-6361-4121-d849-ae6b2a69cf08"
      },
      "outputs": [
        {
          "output_type": "stream",
          "name": "stdout",
          "text": [
            "270/270 [==============================] - 1s 4ms/step - loss: 0.3563 - accuracy: 0.8532\n"
          ]
        },
        {
          "output_type": "execute_result",
          "data": {
            "text/plain": [
              "[0.3562822937965393, 0.8532312512397766]"
            ]
          },
          "metadata": {},
          "execution_count": 19
        }
      ],
      "source": [
        "model3.evaluate(seq_padd_test, test_y)"
      ]
    },
    {
      "cell_type": "markdown",
      "metadata": {
        "id": "pj7HmAtdbbzh"
      },
      "source": [
        "Is it better or worse performance compared to `model2`? Why?\n",
        "\n",
        "*answer here*\n",
        "\n",
        "**Comparasion:**\n",
        "\n",
        "model2: train time: 1m, test loss: 0.9589, test accuracy: 0.8293\n",
        "\n",
        "model3: train time: 23s, test loss: 0.3563, test accuracy: 0.8532\n",
        "\n",
        "\n",
        "**model3 is better than model2.**\n",
        "\n",
        "First, model2 seems to be overfitting. After the first epoch, the validation accuracy starts to decline as training accuracy continues to grow.\n",
        "\n",
        "Then, model2's embedding layer was initialized with random weights and learned the embedding for all the words within the training dataset. This is advantageous if the training data is sufficiently large and representative of the specific domain. However, it requires longer training time and tends to overfitting when the training data is small.\n",
        "\n",
        "model3 is using GloVe and pre-trained word vectors. GloVe captures both global statistics and local statistics of a corpus, in order to come up with word vectors. It brings additional information and context that might not be present in the training data alone. It's a bit more robust."
      ]
    },
    {
      "cell_type": "markdown",
      "metadata": {
        "id": "6y6P_ep9P5r3"
      },
      "source": [
        "### Q4: Word Analogies\n",
        "\n",
        "Above, we created the matrix `embedding_matrix` for the vocabulary in the sarcasm dataset. Use the code below to find the word analogy to \"`germany` is to `berlin` as `uk` is to _blank_\""
      ]
    },
    {
      "cell_type": "code",
      "execution_count": null,
      "metadata": {
        "id": "_u99fXdhPzRF"
      },
      "outputs": [],
      "source": [
        "# we will first create the nearest neighbor model\n",
        "nbrs_glove = NearestNeighbors(n_neighbors = 5, metric = 'cosine').fit(embedding_matrix)"
      ]
    },
    {
      "cell_type": "code",
      "execution_count": null,
      "metadata": {
        "id": "0YSx1cpsQa2P"
      },
      "outputs": [],
      "source": [
        "# let's check if it works\n",
        "embedding_man = embedding_matrix[word_index['man']]"
      ]
    },
    {
      "cell_type": "code",
      "execution_count": null,
      "metadata": {
        "id": "vlamFoD3QThr",
        "colab": {
          "base_uri": "https://localhost:8080/"
        },
        "outputId": "f284a46e-a03b-40d7-c0ca-974900684ae0"
      },
      "outputs": [
        {
          "output_type": "execute_result",
          "data": {
            "text/plain": [
              "['man', 'woman', 'boy', 'one', 'person']"
            ]
          },
          "metadata": {},
          "execution_count": 34
        }
      ],
      "source": [
        "# closest words to `man`\n",
        "dist, idx = nbrs_glove.kneighbors([embedding_man])\n",
        "[index_word[i] for i in idx[0]]"
      ]
    },
    {
      "cell_type": "code",
      "execution_count": null,
      "metadata": {
        "id": "xWGeWlZjQpd9"
      },
      "outputs": [],
      "source": [
        "# now define the proper embedding to solve the analogy\n",
        "blank_embedding = embedding_matrix[word_index['uk']] + embedding_matrix[word_index['berlin']] - embedding_matrix[word_index['germany']]\n",
        "blank_embedding = blank_embedding.reshape(1, -1)"
      ]
    },
    {
      "cell_type": "code",
      "execution_count": null,
      "metadata": {
        "id": "aCoYOiNPRif1",
        "colab": {
          "base_uri": "https://localhost:8080/"
        },
        "outputId": "1f1d2e7f-7862-4727-a39e-ca3c3ceb0fa9"
      },
      "outputs": [
        {
          "output_type": "execute_result",
          "data": {
            "text/plain": [
              "['uk', 'london', 'theatre', '2013', '2011']"
            ]
          },
          "metadata": {},
          "execution_count": 38
        }
      ],
      "source": [
        "# find the closest to blank_embedding\n",
        "# closest words to `man`\n",
        "dist, idx = nbrs_glove.kneighbors(blank_embedding)\n",
        "[index_word[i] for i in idx[0]]"
      ]
    },
    {
      "cell_type": "markdown",
      "metadata": {
        "id": "s6Py0Xc3SFln"
      },
      "source": [
        "### Q5: Biases\n",
        "\n",
        "As we discussed in class, there might be several biases in word embeddings. Use the list of occupations below and for each of them find whether `man` or `woman` is closest to it. In particular, first list all occupations that are closer to `man` than `woman`, and then all occupations that are closer to `woman` than `man`.\n",
        "\n",
        "_Hint_: Use the `cosine` distance between pairs of embeddings from the `SciPy` package. If the ocupation does not exist in the embedding matrix, skip it. Also, remember that the cosine distance is smaller when the embeddings are more similar.\n"
      ]
    },
    {
      "cell_type": "code",
      "execution_count": null,
      "metadata": {
        "id": "Gr4lsaweTPG1",
        "colab": {
          "base_uri": "https://localhost:8080/"
        },
        "outputId": "679fb7b0-39ee-48f5-b06d-0f99523c88f2"
      },
      "outputs": [
        {
          "output_type": "stream",
          "name": "stdout",
          "text": [
            "cosine([1,1], [1,1]):  0\n",
            "cosine([1,1], [0,1]):  0.29289321881345254\n"
          ]
        }
      ],
      "source": [
        "from scipy.spatial.distance import cosine\n",
        "print('cosine([1,1], [1,1]): ', cosine([1,1], [1,1]))\n",
        "print('cosine([1,1], [0,1]): ', cosine([1,1], [0,1]))"
      ]
    },
    {
      "cell_type": "code",
      "execution_count": null,
      "metadata": {
        "id": "J1wk0iujRmyd"
      },
      "outputs": [],
      "source": [
        "occupation_list = \"\"\"technician, accountant, supervisor, engineer, worker, educator, clerk, counselor,\n",
        "inspector, mechanic, manager, therapist, administrator, salesperson, receptionist, librarian,\n",
        "advisor, pharmacist, janitor, psychologist, physician, carpenter, nurse, investigator,\n",
        "bartender, specialist, electrician, officer, pathologist, teacher, lawyer, planner, practitioner,\n",
        "plumber, instructor, surgeon, veterinarian, paramedic, examiner, chemist, machinist,\n",
        "appraiser, nutritionist, architect, hairdresser, baker, programmer, paralegal, hygienist,\n",
        "scientist\"\"\".replace('\\n', '').replace(' ', '').split(',')"
      ]
    },
    {
      "cell_type": "code",
      "execution_count": null,
      "metadata": {
        "id": "LRIFdlWFSw_q"
      },
      "outputs": [],
      "source": [
        "man_embedding = embedding_matrix[word_index['man']]\n",
        "woman_embedding = embedding_matrix[word_index['woman']]"
      ]
    },
    {
      "cell_type": "code",
      "execution_count": null,
      "metadata": {
        "id": "OEMLYEn4S_l3",
        "colab": {
          "base_uri": "https://localhost:8080/"
        },
        "outputId": "6c541753-d6d5-4d9b-d7c8-46880406b5ae"
      },
      "outputs": [
        {
          "output_type": "stream",
          "name": "stdout",
          "text": [
            "man occupation: \n",
            "['engineer', 'inspector', 'mechanic', 'manager', 'advisor', 'carpenter', 'investigator', 'officer', 'lawyer', 'planner', 'plumber', 'instructor', 'architect', 'scientist']\n",
            "woman occupation: \n",
            "['technician', 'supervisor', 'worker', 'educator', 'clerk', 'counselor', 'therapist', 'administrator', 'receptionist', 'librarian', 'pharmacist', 'janitor', 'psychologist', 'physician', 'nurse', 'bartender', 'teacher', 'practitioner', 'surgeon', 'veterinarian', 'paramedic', 'examiner', 'nutritionist', 'hairdresser', 'hygienist']\n"
          ]
        }
      ],
      "source": [
        "# first print the ocupations that are for a man, as perceived by GloVe\n",
        "man_occupation = []\n",
        "woman_occupation = []\n",
        "\n",
        "for occupation in occupation_list:\n",
        "    if occupation in word_index:\n",
        "        occupation_embedding = embedding_matrix[word_index[occupation]]\n",
        "        distance_to_man = cosine(occupation_embedding, man_embedding)\n",
        "        distance_to_woman = cosine(occupation_embedding, woman_embedding)\n",
        "        if distance_to_man < distance_to_woman:\n",
        "            man_occupation.append(occupation)\n",
        "\n",
        "print(\"man occupation: \")\n",
        "print(man_occupation)\n",
        "\n",
        "# second print the ocupations that are for a woman, as perceived by GloVe\n",
        "for occupation in occupation_list:\n",
        "    if occupation in word_index:\n",
        "        occupation_embedding = embedding_matrix[word_index[occupation]]\n",
        "        distance_to_man = cosine(occupation_embedding, man_embedding)\n",
        "        distance_to_woman = cosine(occupation_embedding, woman_embedding)\n",
        "        if distance_to_woman < distance_to_man:\n",
        "            woman_occupation.append(occupation)\n",
        "\n",
        "print(\"woman occupation: \")\n",
        "print(woman_occupation)"
      ]
    },
    {
      "cell_type": "code",
      "source": [
        "# get the plot for cosine distance\n",
        "\n",
        "occupation_names = []\n",
        "man_distances = []\n",
        "woman_distances = []\n",
        "\n",
        "\n",
        "for occupation in occupation_list:\n",
        "    if occupation in word_index:\n",
        "        occupation_embedding = embedding_matrix[word_index[occupation]]\n",
        "        distance_to_man = cosine(occupation_embedding, man_embedding)\n",
        "        distance_to_woman = cosine(occupation_embedding, woman_embedding)\n",
        "\n",
        "        occupation_names.append(occupation)\n",
        "        man_distances.append(distance_to_man)\n",
        "        woman_distances.append(distance_to_woman)\n",
        "\n",
        "\n",
        "indices = np.arange(len(occupation_names))\n",
        "\n",
        "plt.figure(figsize=(10, 10))\n",
        "plt.barh(indices - 0.1, man_distances, height=0.2, color='blue', label='Man')\n",
        "plt.barh(indices + 0.1, woman_distances, height=0.2, color='orange', label='Woman')\n",
        "plt.yticks(indices, occupation_names)\n",
        "plt.xlabel('Cosine Distance')\n",
        "plt.title('Cosine Distance to \"Man\" vs \"Woman\" for Each Occupation')\n",
        "plt.legend()\n",
        "\n",
        "plt.gca().invert_yaxis()\n",
        "plt.tight_layout()\n",
        "plt.show()\n"
      ],
      "metadata": {
        "colab": {
          "base_uri": "https://localhost:8080/",
          "height": 1000
        },
        "id": "ZLMxKZifNrc4",
        "outputId": "9bdf860f-7c7d-4f13-ae58-5d10b2604159"
      },
      "execution_count": null,
      "outputs": [
        {
          "output_type": "display_data",
          "data": {
            "text/plain": [
              "<Figure size 1000x1000 with 1 Axes>"
            ],
            "image/png": "[encoded data removed]"
          },
          "metadata": {}
        }
      ]
    },
    {
      "cell_type": "markdown",
      "metadata": {
        "id": "NK72utxcUnVd"
      },
      "source": [
        "Do you see a pattern in the results? Do you think there are biases?\n",
        "\n",
        "*answer here*\n",
        "\n",
        "**Yes, there are biases.**\n",
        "\n",
        "The occupations' cosine distance closer to 'man' are like engineer, lawyer, scientist, manager, architect. The occupations closer to 'woman' include nurse, hygienist, librarian, educator, etc. These occupations have traditionally and historically been dominated by more men or women, but are not reflective of the current situation, as there is a growing diversification in all professions.\n",
        "\n",
        "GloVe embeddings reflect biases because they were learned and trained on text data from the web, which are biased. This is a significant concern, as it's crucial that AI not perpetuate these stereotypes. Recognizing and addressing these biases is essential to prevent them from being ingrained in AI applications, ensuring a fair and unbiased use of AI technology."
      ]
    },
    {
      "cell_type": "markdown",
      "metadata": {
        "id": "nr26TxJncSI8"
      },
      "source": [
        "### Q6: Sequence to Sequence Embedding\n",
        "\n",
        "What is the problem with LSTM models, and why do we need **attention** to fix them? Give as an example of what happens with sequence to sequence models for translation."
      ]
    },
    {
      "cell_type": "markdown",
      "metadata": {
        "id": "T8VFfCmAcdmh"
      },
      "source": [
        "*answer here*\n",
        "\n",
        "**What is the problem with LSTM models?**\n",
        "\n",
        "LSTM models have an inherent limitation due to the context vector. All information about an input sequence is compressed into a single state of memory, which is the only information passed to the decoder. This requires the networks within each recurrent cell to work very hard to compress all necessary information into the limited available space. The seq2seq architecture tends to ignores all of the encoder’s hidden states except the last. In the case of a long input, those intermediate hidden states can hold information that gets forgotten by the time we reached the end of the sentence, also known as the long-term dependency problem.\n",
        "\n",
        "Another key problem is that an RNN must be trained and used one word at a time. This can be a slow way to work, particularly with large datasets.\n",
        "\n",
        "**Why do we need attention to fix them?**\n",
        "\n",
        "When we’re translating a particular word, not every word in the sentence is equally important, or even relevant at all. Attention mechanism allows the model to selectively focus on certain parts of the input sequence while ignoring others. Besides, attention mechanisms do not rely on processing words serially, we can even do it in parallel.\n",
        "\n",
        "**Example of sequence to sequence models for translation.**\n",
        "\n",
        "RNN dominated Seq2seq learning before being overtaken by Transformer.\n",
        "\n",
        "When using **LSTM/GRU-based seq2seq model**, it might struggle to remember the beginning of a sentence when it reaches the end, particularly if the sentence structure in another language requires information from the start of the English sentence for correct pronoun or tense usage.\n",
        "\n",
        "For example, in translating the sentence \"The table has four sturdy legs,\" a reasonable memory capacity can retain enough information about the subject, a table. However, for a more complex sentence like \"The table, despite all the long-distance moves, the books dropped onto it, the kids running full-speed into it, serving variously as a fort, a stepladder, and a door-stop, still has four sturdy legs,\" the hidden state of the model would need to be significantly larger to remember all the details. It may forget the early part of the sentence, such as the word \"table.\"\n",
        "\n",
        "Seq2seq learning is the task where **Transformer** really shines. Transformer encoder uses self-attention to produce context-aware representations of each token in an input sequence. The Transformer encoder reads the source sequence and produces an encoded representation - a sequence of context-aware embedding vectors of it. The Transformer decoder uses neural attention to identify which tokens in the encoded source sentence are most closely related to the target token it’s currently trying to predict. This model can \"look back\" at the entire input sentence and focus on the relevant parts when translating each word or phrase. This results in more accurate and contextually coherent translations.\n",
        "\n",
        "\n",
        "\n"
      ]
    }
  ],
  "metadata": {
    "accelerator": "GPU",
    "colab": {
      "provenance": []
    },
    "kernelspec": {
      "display_name": "Python 3",
      "name": "python3"
    },
    "language_info": {
      "name": "python"
    }
  },
  "nbformat": 4,
  "nbformat_minor": 0
}